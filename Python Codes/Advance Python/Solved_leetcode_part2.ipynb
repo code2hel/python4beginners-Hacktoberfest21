{
 "metadata": {
  "language_info": {
   "codemirror_mode": {
    "name": "ipython",
    "version": 3
   },
   "file_extension": ".py",
   "mimetype": "text/x-python",
   "name": "python",
   "nbconvert_exporter": "python",
   "pygments_lexer": "ipython3",
   "version": 3
  },
  "orig_nbformat": 4
 },
 "nbformat": 4,
 "nbformat_minor": 2,
 "cells": [
  {
   "cell_type": "markdown",
   "source": [
    "> # Sept_1rst - Array Nesting\n",
    "\n",
    "You are given an integer array `nums` of length `n` where nums is a permutation of the numbers in the `range [0, n - 1]`.\n",
    "\n",
    "You should build a set `s[k] = {nums[k], nums[nums[k]], nums nums[nums[k]]], ... }` subjected to the following rule:\n",
    "\n",
    "The first element in `s[k]` starts with the selection of the element `nums[k]` of `index = k`.\n",
    "The next element in `s[k]` should be `nums[nums[k]]`, and then `nums[nums[nums[k]]]`, and so on.\n",
    "We stop adding right before a duplicate element occurs in `s[k]`.\n",
    "\n",
    "Return the longest length of a set `s[k]`."
   ],
   "metadata": {}
  },
  {
   "cell_type": "code",
   "execution_count": null,
   "source": [
    "class Solution:\r\n",
    "    def arrayNesting(self, nums: List[int]) -> int:\r\n",
    "        n = len(nums)\r\n",
    "        res = 1\r\n",
    "        for i in range(n):\r\n",
    "            j = 0            # j is the current length of the sequence\r\n",
    "            while nums[i]!= -1: \r\n",
    "                temp = i   \r\n",
    "                j+=1         # update j \r\n",
    "                i = nums[i]  # goes to nums[nums[i]]\r\n",
    "                nums[temp] = -1 # mark visited\r\n",
    "            res = max(res,j) \r\n",
    "        return res"
   ],
   "outputs": [],
   "metadata": {}
  },
  {
   "cell_type": "markdown",
   "source": [
    "> # SEPT_2nd - Unique Binary Search Trees II\r\n",
    "\r\n",
    "Given an integer `n`, return all the structurally unique BST's (binary search trees), which has exactly `n` nodes of unique values from `1` to `n`. Return the answer in any order.\r\n"
   ],
   "metadata": {}
  },
  {
   "cell_type": "code",
   "execution_count": null,
   "source": [
    "# Definition for a binary tree node.\r\n",
    "# class TreeNode:\r\n",
    "#     def __init__(self, val=0, left=None, right=None):\r\n",
    "#         self.val = val\r\n",
    "#         self.left = left\r\n",
    "#         self.right = right\r\n",
    "class Solution:\r\n",
    "    def generateTrees(self, n: int) -> List[Optional[TreeNode]]:\r\n",
    "        def formtree(start,end): \r\n",
    "            if start==end: return None   # to check if the tree is empty\r\n",
    "            res=[]                       \r\n",
    "            for i in range(start,end):      # loop each number \r\n",
    "                for l in formtree(start,i) or [None]:  # form to the left of the tree i.e. for numbers less than the selected number\r\n",
    "                    for r in formtree(i+1,end) or [None]: # form to the right of the tree i.e. for numbers greater than the selected number\r\n",
    "                        node= TreeNode(i)   # create a node\r\n",
    "                        node.left=l     \r\n",
    "                        node.right=r\r\n",
    "                        res.append(node)\r\n",
    "            return res\r\n",
    "        return formtree(1,n+1)\r\n",
    "        "
   ],
   "outputs": [],
   "metadata": {}
  },
  {
   "cell_type": "markdown",
   "source": [
    "> # SEPT_6nd - Slowest Key\r\n",
    "\r\n",
    "A newly designed keypad was tested, where a tester pressed a sequence of `n` keys, one at a time.\r\n",
    "\r\n",
    "You are given a string `keysPressed` of length `n`, where `keysPressed[i]` was the `i`th key pressed in the testing sequence, and a sorted list `releaseTimes`, where `releaseTimes[i]` was the time the `i`th key was released. Both arrays are **0-indexed**. The `0`th key was pressed at the time `0`, and every subsequent key was pressed at the **exact** time the previous key was released.\r\n",
    "\r\n",
    "The tester wants to know the key of the keypress that had the **longest duration**. The `i`th keypress had a **duration** of `releaseTimes[i] - releaseTimes[i - 1]`, and the `0`th keypress had a duration of `releaseTimes[0]`.\r\n",
    "\r\n",
    "Note that the same key could have been pressed multiple times during the test, and these multiple presses of the same key may not have had the same duration.\r\n",
    "\r\n",
    "Return the key of the keypress that had the longest duration. If there are multiple such keypresses, return the lexicographically largest key of the keypresses."
   ],
   "metadata": {}
  },
  {
   "cell_type": "markdown",
   "source": [
    "## Solution"
   ],
   "metadata": {}
  },
  {
   "cell_type": "code",
   "execution_count": null,
   "source": [
    "class Solution:\r\n",
    "    def slowestKey(self, releaseTimes: List[int], keysPressed: str) -> str:\r\n",
    "        finkey=keysPressed[0]\r\n",
    "        fintime=releaseTimes[0]\r\n",
    "        for i in range(1,len(releaseTimes)):\r\n",
    "            reltime=releaseTimes[i]-releaseTimes[i-1]\r\n",
    "            key=keysPressed[i]\r\n",
    "\r\n",
    "            if reltime>fintime or (reltime==fintime and key>finkey):\r\n",
    "                fintime=reltime \r\n",
    "                finkey=key  \r\n",
    "        return finkey\r\n",
    "\r\n"
   ],
   "outputs": [],
   "metadata": {}
  },
  {
   "cell_type": "markdown",
   "source": [
    "## EXPLANATION\r\n",
    "\r\n",
    "first we travel through the array. according to the conditon mentioned in the question if releaseTimes[i] - releaseTimes[i - 1] > current biggest  suration, then we update the biggest duration and the Key pressed. \r\n",
    "If it is equal to the current biggest duration, then we check if the current key pressed is lexicographically bigger than the previous key pressed.\r\n",
    " \r\n",
    "Lexicographically bigger means that the current key pressed is bigger than the previous key pressed.Eg c is bigger than b."
   ],
   "metadata": {}
  },
  {
   "cell_type": "markdown",
   "source": [
    "> # SEPT_7th - Reversed linked list\r\n",
    "\r\n",
    "Given the `head` of a singly linked list, reverse the list, and return the reversed list."
   ],
   "metadata": {}
  },
  {
   "cell_type": "markdown",
   "source": [
    "## Solution"
   ],
   "metadata": {}
  },
  {
   "cell_type": "code",
   "execution_count": null,
   "source": [
    "class ListNode:\r\n",
    "    def __init__(self, val=0, next=None):\r\n",
    "        self.val = val\r\n",
    "        self.next = next\r\n",
    "class Solution:\r\n",
    "    def reverseList(self, head: Optional[ListNode]) -> Optional[ListNode]:\r\n",
    "        newhead= ListNode()\r\n",
    "        def linkofthelink(orig,rev):\r\n",
    "            stack=[]\r\n",
    "            temp=orig\r\n",
    "            while temp:\r\n",
    "                stack.append(temp)\r\n",
    "                temp=temp.next\r\n",
    "            \r\n",
    "            temp=stack.pop()\r\n",
    "            rev=temp\r\n",
    "            \r\n",
    "            while stack:\r\n",
    "                i=stack.pop()  \r\n",
    "                temp.next=i    \r\n",
    "                temp= temp.next\r\n",
    "            \r\n",
    "            temp.next = None     \r\n",
    "            return rev\r\n",
    "\r\n",
    "        if head:\r\n",
    "            newhead = linkofthelink(head,newhead)\r\n",
    "            return newhead\r\n",
    "        else: \r\n",
    "            return None\r\n",
    "\r\n",
    "            "
   ],
   "outputs": [],
   "metadata": {}
  },
  {
   "cell_type": "markdown",
   "source": [
    "## EXPLANATION\r\n",
    "\r\n",
    "Here we store the values as a stack. so the last element is in top of the stack.\r\n",
    "now we pop the stack and link it to the head of the new reversed pointer."
   ],
   "metadata": {}
  },
  {
   "cell_type": "markdown",
   "source": [
    "> # Sept_11 - Basic Calculator\r\n",
    "\r\n",
    "Given a string s representing a valid expression, implement a basic calculator to evaluate it, and return the result of the evaluation.\r\n",
    "\r\n",
    "Note: You are not allowed to use any built-in function which evaluates strings as mathematical expressions, such as eval().\r\n",
    "\r\n",
    "this qstn is pretty simple and straight forward......"
   ],
   "metadata": {}
  },
  {
   "cell_type": "code",
   "execution_count": null,
   "source": [
    "class Solution:\r\n",
    "    def calculate(self, s):    \r\n",
    "        def calc(tmp):\r\n",
    "            def update(op, v):\r\n",
    "                if op == \"+\": stack.append(v)\r\n",
    "                if op == \"-\": stack.append(-v)\r\n",
    "                if op == \"*\": stack.append(stack.pop() * v)\r\n",
    "                if op == \"/\": stack.append(int(stack.pop() / v))\r\n",
    "        \r\n",
    "            num, stack, sign = 0, [], \"+\"\r\n",
    "            \r\n",
    "            while tmp < len(s):\r\n",
    "                if s[tmp].isdigit():\r\n",
    "                    num = num * 10 + int(s[tmp])\r\n",
    "                elif s[tmp] in \"+-*/\":\r\n",
    "                    update(sign, num)\r\n",
    "                    num, sign = 0, s[tmp]\r\n",
    "                elif s[tmp] == \"(\":\r\n",
    "                    num, j = calc(tmp + 1)\r\n",
    "                    tmp = j - 1\r\n",
    "                elif s[tmp] == \")\":\r\n",
    "                    update(sign, num)\r\n",
    "                    return sum(stack), tmp + 1\r\n",
    "                tmp += 1\r\n",
    "            update(sign, num)\r\n",
    "            return sum(stack)\r\n",
    "\r\n",
    "        return calc(0)\r\n"
   ],
   "outputs": [],
   "metadata": {}
  },
  {
   "cell_type": "markdown",
   "source": [
    "> # Sept 13th Maximum Number of Ballons\r\n",
    "\r\n",
    "Given a string `text`, you want to use the characters of `text` to form as many instances of the word \"balloon\" as possible.\r\n",
    "\r\n",
    "You can use each character in `text` at most once. Return the maximum number of instances that can be formed.\r\n",
    "\r\n"
   ],
   "metadata": {}
  },
  {
   "cell_type": "code",
   "execution_count": null,
   "source": [
    "class Solution:\r\n",
    "    def maxNumberOfBalloons(self, text: str) -> int:\r\n",
    "        b=text.count('b')\r\n",
    "        a=text.count('a')\r\n",
    "        l=text.count('l')\r\n",
    "        o=text.count('o')\r\n",
    "        n=text.count('n')\r\n",
    "        l=l//2\r\n",
    "        o=o//2  \r\n",
    "        y=min(b,a,l,o,n)\r\n",
    "        return y\r\n",
    "        "
   ],
   "outputs": [],
   "metadata": {}
  },
  {
   "cell_type": "markdown",
   "source": [
    "# EXPLANATION\r\n",
    "\r\n",
    "So we need to find how many times the word balloon can be formed. \r\n",
    "so we count the occurence of `b,a,l,o,n.` we divide `l` and `o` by 2 since `l` and `o` occurs twice.\r\n",
    "now we just return the min of these count so that much times the word balloon can be formed from the the given string."
   ],
   "metadata": {}
  },
  {
   "cell_type": "markdown",
   "source": [],
   "metadata": {}
  },
  {
   "cell_type": "markdown",
   "source": [
    "> # Sept_14th - Reverse Only Letters\r\n",
    "\r\n",
    "Given a string `s`, reverse the string according to the following rules:\r\n",
    "\r\n",
    "- All the characters that are not English letters remain in the same position.\r\n",
    "- All the English letters (lowercase or uppercase) should be reversed.\r\n",
    "\r\n",
    "Return `s` after reversing it.\r\n",
    "\r\n",
    "\r\n",
    "## Solution"
   ],
   "metadata": {}
  },
  {
   "cell_type": "code",
   "execution_count": null,
   "source": [
    "class Solution:\r\n",
    "    def reverseOnlyLetters(self, s: str) -> str:\r\n",
    "        n=len(s)\r\n",
    "        i=0\r\n",
    "        j=n-1\r\n",
    "        while i<j:\r\n",
    "            while i<n and not s[i].isalpha():\r\n",
    "                i+=1\r\n",
    "            while j>=0 and not s[j].isalpha():\r\n",
    "                j-=1\r\n",
    "            if i<j:\r\n",
    "                s=s[:i]+s[j]+s[i+1:j]+s[i]+s[j+1:]\r\n",
    "            i+=1\r\n",
    "            j-=1\r\n",
    "        return s\r\n",
    "\r\n",
    "        # simple logic right??"
   ],
   "outputs": [],
   "metadata": {}
  },
  {
   "cell_type": "markdown",
   "source": [
    "> # Sept_15th - Longest Turbulant Subarray\r\n",
    "\r\n",
    "Given an integer array `arr`, return the length of a maximum size turbulent subarray of `arr`.\r\n",
    "\r\n",
    "A subarray is **turbulent** if the comparison sign flips between each adjacent pair of elements in the subarray.\r\n",
    "\r\n",
    "More formally, a subarray `[arr[i], arr[i + 1], ..., arr[j]]` of `arr` is said to be turbulent if and only if:\r\n",
    "\r\n",
    "- For `i <= k < j`:\r\n",
    "\r\n",
    "        * `arr[k] > arr[k + 1]` when `k` is odd, and\r\n",
    "        * `arr[k] < arr[k + 1]` when `k` is even.\r\n",
    "\r\n",
    "- Or, `for i <= k < j`:\r\n",
    "\r\n",
    "        * `arr[k] > arr[k + 1]` when `k` is even, and\r\n",
    "        * `arr[k] < arr[k + 1]` when `k` is odd."
   ],
   "metadata": {}
  },
  {
   "cell_type": "code",
   "execution_count": null,
   "source": [
    "class Solution:\r\n",
    "    def maxTurbulenceSize(self, arr: List[int]) -> int:\r\n",
    "        if len(arr) < 2:\r\n",
    "            return len(arr)\r\n",
    "        res = 1\r\n",
    "        cur = 1\r\n",
    "        for i in range(0, len(arr)-1):\r\n",
    "            if cur>1:\r\n",
    "                if  (gt and arr[i] > arr[i+1]) or ((not gt) and arr[i] < arr[i+1]):\r\n",
    "                    cur += 1\r\n",
    "                    gt=not gt\r\n",
    "                elif arr[i]==arr[i+1]:\r\n",
    "                    res=max(res, cur)\r\n",
    "                    cur=1\r\n",
    "                else:\r\n",
    "                    res=max(res, cur)\r\n",
    "                    cur=2\r\n",
    "                    gt=arr[i]<arr[i+1]\r\n",
    "            elif arr[i]!=arr[i-1]:\r\n",
    "                cur=2\r\n",
    "                gt=arr[i]<arr[i+1]\r\n",
    "        return max(res, cur)\r\n"
   ],
   "outputs": [],
   "metadata": {}
  },
  {
   "cell_type": "markdown",
   "source": [
    "# Solution\r\n",
    "\r\n",
    "store the bool val if starts with > or < . move on and if it flips increment the counter. If it doesnt't reset counter, update max res and continue..."
   ],
   "metadata": {}
  },
  {
   "cell_type": "markdown",
   "source": [
    "> # Sept_17th - Intersection of Two Arrays II\r\n",
    "\r\n",
    "Given two integer arrays `nums1` and `nums2`, return an array of their intersection. Each element in the result must appear as many times as it shows in both arrays and you may return the result in any order."
   ],
   "metadata": {}
  },
  {
   "cell_type": "code",
   "execution_count": null,
   "source": [
    "class Solution:\r\n",
    "    def intersect(self, nums1: List[int], nums2: List[int]) -> List[int]:\r\n",
    "        if len(nums1) < len(nums2):\r\n",
    "            small = sorted(nums1)\r\n",
    "            big = sorted(nums2)\r\n",
    "        else:\r\n",
    "            small = sorted(nums2)\r\n",
    "            big = sorted(nums1)\r\n",
    "        i = j = 0\r\n",
    "        res = []\r\n",
    "        while i < len(small) and j < len(big):\r\n",
    "            if small[i] == big[j]:\r\n",
    "                res.append(small[i])\r\n",
    "                i += 1\r\n",
    "                j += 1\r\n",
    "            elif small[i] < big[j]:\r\n",
    "                i += 1\r\n",
    "            else:\r\n",
    "                j += 1\r\n",
    "        return res"
   ],
   "outputs": [],
   "metadata": {}
  },
  {
   "cell_type": "markdown",
   "source": [
    "## EXPLANATION\r\n",
    "\r\n",
    "here we sort the small and bigger array and then we compare the elements.\r\n",
    "update with 2 pointers i,j while using a `while` loop.\r\n"
   ],
   "metadata": {}
  }
 ]
}